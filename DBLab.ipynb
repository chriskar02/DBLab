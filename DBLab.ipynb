{
 "cells": [
  {
   "cell_type": "code",
   "execution_count": 27,
   "id": "314dacf4-a42e-4ff1-a74c-72cccf8fd093",
   "metadata": {
    "tags": []
   },
   "outputs": [
    {
     "data": {
      "application/vnd.jupyter.widget-view+json": {
       "model_id": "",
       "version_major": 2,
       "version_minor": 0
      },
      "text/plain": [
       "FloatProgress(value=0.0, bar_style='info', description='Progress:', layout=Layout(height='25px', width='50%'),…"
      ]
     },
     "metadata": {},
     "output_type": "display_data"
    }
   ],
   "source": [
    "from pyspark.sql import SparkSession\n",
    "from pyspark.sql.functions import col, when, count\n",
    "import time\n",
    "import csv"
   ]
  },
  {
   "cell_type": "code",
   "execution_count": null,
   "id": "7a228252-405c-45e3-9b8e-44e3182fec3b",
   "metadata": {},
   "outputs": [],
   "source": [
    "#Both Dataframe and RDD implementations are to use 4 spark executors\n",
    "\n",
    "spark = SparkSession.builder \\\n",
    "    .appName(\"Query1 DataFrame API\") \\\n",
    "    .config(\"spark.executor.instances\", \"4\") \\\n",
    "    .getOrCreate()"
   ]
  },
  {
   "cell_type": "code",
   "execution_count": 23,
   "id": "03e83166-6544-4c45-89df-2fbd6459f7aa",
   "metadata": {
    "tags": []
   },
   "outputs": [
    {
     "data": {
      "application/vnd.jupyter.widget-view+json": {
       "model_id": "",
       "version_major": 2,
       "version_minor": 0
      },
      "text/plain": [
       "FloatProgress(value=0.0, bar_style='info', description='Progress:', layout=Layout(height='25px', width='50%'),…"
      ]
     },
     "metadata": {},
     "output_type": "display_data"
    },
    {
     "name": "stdout",
     "output_type": "stream",
     "text": [
      "+------------+-----+\n",
      "|    AgeGroup|Count|\n",
      "+------------+-----+\n",
      "|      Adults|72610|\n",
      "|Young Adults|23472|\n",
      "|    Children|10724|\n",
      "|     Seniors| 3099|\n",
      "+------------+-----+\n",
      "\n",
      "Execution Time (DataFrame API): 19.31 seconds"
     ]
    }
   ],
   "source": [
    "# Query1 Dataframe implementation\n",
    "\n",
    "# Start timer\n",
    "start_time = time.time()\n",
    "\n",
    "# Load Crime Data\n",
    "crime_data = spark.read.csv(\"s3://initial-notebook-data-bucket-dblab-905418150721/CrimeData/Crime_Data_from_2010_to_2019_20241101.csv\", header=True, inferSchema=True)\n",
    "\n",
    "# Filter for \"AGGRAVATED ASSAULT\"\n",
    "assault_data = crime_data.filter(col(\"Crm Cd Desc\").contains(\"AGGRAVATED ASSAULT\"))\n",
    "\n",
    "# Age Groups\n",
    "categorized = assault_data.withColumn(\n",
    "    \"AgeGroup\",\n",
    "    when(col(\"Vict Age\") < 18, \"Children\")\n",
    "    .when((col(\"Vict Age\") >= 18) & (col(\"Vict Age\") <= 24), \"Young Adults\")\n",
    "    .when((col(\"Vict Age\") >= 25) & (col(\"Vict Age\") <= 64), \"Adults\")\n",
    "    .when(col(\"Vict Age\") > 64, \"Seniors\")\n",
    ")\n",
    "\n",
    "# Group and count\n",
    "result_df = categorized.groupBy(\"AgeGroup\").agg(count(\"*\").alias(\"Count\")).orderBy(col(\"Count\").desc())\n",
    "\n",
    "#Show results\n",
    "result_df.show()\n",
    "\n",
    "# Stop timer and print elapsed time\n",
    "elapsed_time = time.time() - start_time\n",
    "print(f\"Execution Time (DataFrame API): {elapsed_time:.2f} seconds\")"
   ]
  },
  {
   "cell_type": "code",
   "execution_count": 30,
   "id": "5ccd071f-5afa-4402-8c4b-8241a9655034",
   "metadata": {
    "tags": []
   },
   "outputs": [
    {
     "data": {
      "application/vnd.jupyter.widget-view+json": {
       "model_id": "",
       "version_major": 2,
       "version_minor": 0
      },
      "text/plain": [
       "FloatProgress(value=0.0, bar_style='info', description='Progress:', layout=Layout(height='25px', width='50%'),…"
      ]
     },
     "metadata": {},
     "output_type": "display_data"
    },
    {
     "name": "stdout",
     "output_type": "stream",
     "text": [
      "root\n",
      " |-- DR_NO: integer (nullable = true)\n",
      " |-- Date Rptd: string (nullable = true)\n",
      " |-- DATE OCC: string (nullable = true)\n",
      " |-- TIME OCC: integer (nullable = true)\n",
      " |-- AREA : integer (nullable = true)\n",
      " |-- AREA NAME: string (nullable = true)\n",
      " |-- Rpt Dist No: integer (nullable = true)\n",
      " |-- Part 1-2: integer (nullable = true)\n",
      " |-- Crm Cd: integer (nullable = true)\n",
      " |-- Crm Cd Desc: string (nullable = true)\n",
      " |-- Mocodes: string (nullable = true)\n",
      " |-- Vict Age: integer (nullable = true)\n",
      " |-- Vict Sex: string (nullable = true)\n",
      " |-- Vict Descent: string (nullable = true)\n",
      " |-- Premis Cd: integer (nullable = true)\n",
      " |-- Premis Desc: string (nullable = true)\n",
      " |-- Weapon Used Cd: integer (nullable = true)\n",
      " |-- Weapon Desc: string (nullable = true)\n",
      " |-- Status: string (nullable = true)\n",
      " |-- Status Desc: string (nullable = true)\n",
      " |-- Crm Cd 1: integer (nullable = true)\n",
      " |-- Crm Cd 2: integer (nullable = true)\n",
      " |-- Crm Cd 3: integer (nullable = true)\n",
      " |-- Crm Cd 4: integer (nullable = true)\n",
      " |-- LOCATION: string (nullable = true)\n",
      " |-- Cross Street: string (nullable = true)\n",
      " |-- LAT: double (nullable = true)\n",
      " |-- LON: double (nullable = true)\n",
      "\n",
      "+---------+--------------------+--------------------+--------+-----+---------+-----------+--------+------+--------------------+--------------+--------+--------+------------+---------+--------------------+--------------+--------------------+------+------------+--------+--------+--------+--------+--------------------+--------------------+-------+---------+\n",
      "|    DR_NO|           Date Rptd|            DATE OCC|TIME OCC|AREA |AREA NAME|Rpt Dist No|Part 1-2|Crm Cd|         Crm Cd Desc|       Mocodes|Vict Age|Vict Sex|Vict Descent|Premis Cd|         Premis Desc|Weapon Used Cd|         Weapon Desc|Status| Status Desc|Crm Cd 1|Crm Cd 2|Crm Cd 3|Crm Cd 4|            LOCATION|        Cross Street|    LAT|      LON|\n",
      "+---------+--------------------+--------------------+--------+-----+---------+-----------+--------+------+--------------------+--------------+--------+--------+------------+---------+--------------------+--------------+--------------------+------+------------+--------+--------+--------+--------+--------------------+--------------------+-------+---------+\n",
      "|  1307355|02/20/2010 12:00:...|02/20/2010 12:00:...|    1350|   13|   Newton|       1385|       2|   900|VIOLATION OF COUR...|0913 1814 2000|      48|       M|           H|      501|SINGLE FAMILY DWE...|          NULL|                NULL|    AA|Adult Arrest|     900|    NULL|    NULL|    NULL|300 E  GAGE      ...|                NULL|33.9825|-118.2695|\n",
      "| 11401303|09/13/2010 12:00:...|09/12/2010 12:00:...|      45|   14|  Pacific|       1485|       2|   740|VANDALISM - FELON...|          0329|       0|       M|           W|      101|              STREET|          NULL|                NULL|    IC| Invest Cont|     740|    NULL|    NULL|    NULL|SEPULVEDA        ...|MANCHESTER       ...|33.9599|-118.3962|\n",
      "| 70309629|08/09/2010 12:00:...|08/09/2010 12:00:...|    1515|   13|   Newton|       1324|       2|   946|OTHER MISCELLANEO...|          0344|       0|       M|           H|      103|               ALLEY|          NULL|                NULL|    IC| Invest Cont|     946|    NULL|    NULL|    NULL|1300 E  21ST     ...|                NULL|34.0224|-118.2524|\n",
      "| 90631215|01/05/2010 12:00:...|01/05/2010 12:00:...|     150|    6|Hollywood|        646|       2|   900|VIOLATION OF COUR...|1100 0400 1402|      47|       F|           W|      101|              STREET|           102|            HAND GUN|    IC| Invest Cont|     900|     998|    NULL|    NULL|CAHUENGA         ...|HOLLYWOOD        ...|34.1016|-118.3295|\n",
      "|100100501|01/03/2010 12:00:...|01/02/2010 12:00:...|    2100|    1|  Central|        176|       1|   122|     RAPE, ATTEMPTED|          0400|      47|       F|           H|      103|               ALLEY|           400|STRONG-ARM (HANDS...|    IC| Invest Cont|     122|    NULL|    NULL|    NULL|8TH              ...|SAN PEDRO        ...|34.0387|-118.2488|\n",
      "|100100506|01/05/2010 12:00:...|01/04/2010 12:00:...|    1650|    1|  Central|        162|       1|   442|SHOPLIFTING - PET...|     0344 1402|      23|       M|           B|      404|    DEPARTMENT STORE|          NULL|                NULL|    AA|Adult Arrest|     442|    NULL|    NULL|    NULL|700 W  7TH       ...|                NULL| 34.048|-118.2577|\n",
      "|100100508|01/08/2010 12:00:...|01/07/2010 12:00:...|    2005|    1|  Central|        182|       1|   330|BURGLARY FROM VEH...|          0344|      46|       M|           H|      101|              STREET|          NULL|                NULL|    IC| Invest Cont|     330|    NULL|    NULL|    NULL|PICO             ...|GRAND            ...|34.0389|-118.2643|\n",
      "|100100509|01/09/2010 12:00:...|01/08/2010 12:00:...|    2100|    1|  Central|        157|       1|   230|ASSAULT WITH DEAD...|          0416|      51|       M|           B|      710|       OTHER PREMISE|           500|UNKNOWN WEAPON/OT...|    AA|Adult Arrest|     230|    NULL|    NULL|    NULL|500    CROCKER   ...|                NULL|34.0435|-118.2427|\n",
      "|100100510|01/09/2010 12:00:...|01/09/2010 12:00:...|     230|    1|  Central|        171|       1|   230|ASSAULT WITH DEAD...|     0400 0416|      30|       M|           H|      108|         PARKING LOT|           400|STRONG-ARM (HANDS...|    IC| Invest Cont|     230|    NULL|    NULL|    NULL|800 W  OLYMPIC   ...|                NULL| 34.045| -118.264|\n",
      "|100100511|01/09/2010 12:00:...|01/06/2010 12:00:...|    2100|    1|  Central|        132|       1|   341|THEFT-GRAND ($950...|     0344 1402|      55|       M|           W|      710|       OTHER PREMISE|          NULL|                NULL|    IC| Invest Cont|     341|     998|    NULL|    NULL|200 S  OLIVE     ...|                NULL|34.0538|-118.2488|\n",
      "+---------+--------------------+--------------------+--------+-----+---------+-----------+--------+------+--------------------+--------------+--------+--------+------------+---------+--------------------+--------------+--------------------+------+------------+--------+--------+--------+--------+--------------------+--------------------+-------+---------+\n",
      "only showing top 10 rows"
     ]
    }
   ],
   "source": [
    "# Show dataset schema to find indexes for RDD\n",
    "crime_data.printSchema()\n",
    "\n",
    "# Display sample rows\n",
    "crime_data.show(10)"
   ]
  },
  {
   "cell_type": "code",
   "execution_count": 33,
   "id": "0816e675-e0fc-416a-9d2a-48c3655e522f",
   "metadata": {
    "tags": []
   },
   "outputs": [
    {
     "data": {
      "application/vnd.jupyter.widget-view+json": {
       "model_id": "",
       "version_major": 2,
       "version_minor": 0
      },
      "text/plain": [
       "FloatProgress(value=0.0, bar_style='info', description='Progress:', layout=Layout(height='25px', width='50%'),…"
      ]
     },
     "metadata": {},
     "output_type": "display_data"
    },
    {
     "name": "stdout",
     "output_type": "stream",
     "text": [
      "Adults: 72610\n",
      "Young Adults: 23472\n",
      "Children: 10724\n",
      "Seniors: 3099\n",
      "Execution Time (RDD API): 21.01 seconds"
     ]
    }
   ],
   "source": [
    "#Query 1 RDD implementation\n",
    "\n",
    "# Start timer\n",
    "start_time = time.time()\n",
    "\n",
    "# Load dataset as RDD\n",
    "crime_rdd = spark.sparkContext.textFile(\"s3://initial-notebook-data-bucket-dblab-905418150721/CrimeData/Crime_Data_from_2010_to_2019_20241101.csv\")\n",
    "\n",
    "# Extract header and filter it out\n",
    "header = crime_rdd.first()\n",
    "crime_rdd = crime_rdd.filter(lambda row: row != header)\n",
    "\n",
    "# Parse CSV rows\n",
    "def parse_csv(line):\n",
    "    return list(csv.reader([line]))[0]\n",
    "\n",
    "parsed_rdd = crime_rdd.map(parse_csv)\n",
    "\n",
    "# Filter for \"AGGRAVATED ASSAULT\"\n",
    "assault_rdd = parsed_rdd.filter(lambda row: \"AGGRAVATED ASSAULT\" in row[9])\n",
    "\n",
    "# Age groups\n",
    "age_group_rdd = assault_rdd.map(lambda row: (\n",
    "    \"Children\" if int(row[11]) < 18 else\n",
    "    \"Young Adults\" if 18 <= int(row[11]) <= 24 else\n",
    "    \"Adults\" if 25 <= int(row[11]) <= 64 else\n",
    "    \"Seniors\"\n",
    "))\n",
    "\n",
    "# Group and count\n",
    "result_rdd = age_group_rdd.map(lambda group: (group, 1)).reduceByKey(lambda a, b: a + b).sortBy(lambda x: x[1], ascending=False)\n",
    "\n",
    "# Show results\n",
    "for group, count in result_rdd.collect():\n",
    "    print(f\"{group}: {count}\")\n",
    "\n",
    "# Stop timer and print elapsed time\n",
    "elapsed_time = time.time() - start_time\n",
    "print(f\"Execution Time (RDD API): {elapsed_time:.2f} seconds\")"
   ]
  },
  {
   "cell_type": "code",
   "execution_count": 21,
   "id": "b78c38f2-a79d-45f1-9d15-a5ac84131085",
   "metadata": {
    "tags": []
   },
   "outputs": [
    {
     "data": {
      "application/vnd.jupyter.widget-view+json": {
       "model_id": "",
       "version_major": 2,
       "version_minor": 0
      },
      "text/plain": [
       "FloatProgress(value=0.0, bar_style='info', description='Progress:', layout=Layout(height='25px', width='50%'),…"
      ]
     },
     "metadata": {},
     "output_type": "display_data"
    },
    {
     "name": "stdout",
     "output_type": "stream",
     "text": [
      "['DR_NO', 'Date Rptd', 'DATE OCC', 'TIME OCC', 'AREA ', 'AREA NAME', 'Rpt Dist No', 'Part 1-2', 'Crm Cd', 'Crm Cd Desc', 'Mocodes', 'Vict Age', 'Vict Sex', 'Vict Descent', 'Premis Cd', 'Premis Desc', 'Weapon Used Cd', 'Weapon Desc', 'Status', 'Status Desc', 'Crm Cd 1', 'Crm Cd 2', 'Crm Cd 3', 'Crm Cd 4', 'LOCATION', 'Cross Street', 'LAT', 'LON']"
     ]
    }
   ],
   "source": [
    "print(crime_data.columns)"
   ]
  },
  {
   "cell_type": "code",
   "execution_count": 22,
   "id": "8cc55223-3f13-4c7e-b9d2-563cb0d94b48",
   "metadata": {
    "tags": []
   },
   "outputs": [
    {
     "data": {
      "application/vnd.jupyter.widget-view+json": {
       "model_id": "",
       "version_major": 2,
       "version_minor": 0
      },
      "text/plain": [
       "FloatProgress(value=0.0, bar_style='info', description='Progress:', layout=Layout(height='25px', width='50%'),…"
      ]
     },
     "metadata": {},
     "output_type": "display_data"
    },
    {
     "name": "stdout",
     "output_type": "stream",
     "text": [
      "StructType([StructField('DR_NO', IntegerType(), True), StructField('Date Rptd', StringType(), True), StructField('DATE OCC', StringType(), True), StructField('TIME OCC', IntegerType(), True), StructField('AREA ', IntegerType(), True), StructField('AREA NAME', StringType(), True), StructField('Rpt Dist No', IntegerType(), True), StructField('Part 1-2', IntegerType(), True), StructField('Crm Cd', IntegerType(), True), StructField('Crm Cd Desc', StringType(), True), StructField('Mocodes', StringType(), True), StructField('Vict Age', IntegerType(), True), StructField('Vict Sex', StringType(), True), StructField('Vict Descent', StringType(), True), StructField('Premis Cd', IntegerType(), True), StructField('Premis Desc', StringType(), True), StructField('Weapon Used Cd', IntegerType(), True), StructField('Weapon Desc', StringType(), True), StructField('Status', StringType(), True), StructField('Status Desc', StringType(), True), StructField('Crm Cd 1', IntegerType(), True), StructField('Crm Cd 2', IntegerType(), True), StructField('Crm Cd 3', IntegerType(), True), StructField('Crm Cd 4', IntegerType(), True), StructField('LOCATION', StringType(), True), StructField('Cross Street', StringType(), True), StructField('LAT', DoubleType(), True), StructField('LON', DoubleType(), True)])"
     ]
    }
   ],
   "source": [
    "print(crime_data.schema)"
   ]
  },
  {
   "cell_type": "markdown",
   "id": "5cf8d73b-0ffb-4457-8dc1-7feb85eeb62e",
   "metadata": {},
   "source": [
    "### Query2"
   ]
  },
  {
   "cell_type": "markdown",
   "id": "8d891e09-2dcb-4d20-a00a-073e76044437",
   "metadata": {},
   "source": [
    "### i) Data_Frame API"
   ]
  },
  {
   "cell_type": "code",
   "execution_count": 25,
   "id": "eddb003f-e590-4d89-b7ee-186bcdf04176",
   "metadata": {
    "tags": []
   },
   "outputs": [
    {
     "data": {
      "application/vnd.jupyter.widget-view+json": {
       "model_id": "",
       "version_major": 2,
       "version_minor": 0
      },
      "text/plain": [
       "FloatProgress(value=0.0, bar_style='info', description='Progress:', layout=Layout(height='25px', width='50%'),…"
      ]
     },
     "metadata": {},
     "output_type": "display_data"
    },
    {
     "name": "stdout",
     "output_type": "stream",
     "text": [
      "+----+-----------+-----------+------------+-------------------+-------+\n",
      "|YEAR|AREA NAME  |total_cases|closed_cases|closed_case_rate   |ranking|\n",
      "+----+-----------+-----------+------------+-------------------+-------+\n",
      "|2010|Rampart    |8707       |2860        |0.32847134489491214|1      |\n",
      "|2010|Olympic    |8764       |2762        |0.3151528982199909 |2      |\n",
      "|2010|Harbor     |9598       |2818        |0.2936028339237341 |3      |\n",
      "|2011|Olympic    |7988       |2799        |0.35040060090135206|1      |\n",
      "|2011|Rampart    |8444       |2744        |0.324964471814306  |2      |\n",
      "|2011|Harbor     |9841       |2806        |0.2851336246316431 |3      |\n",
      "|2012|Olympic    |8543       |2930        |0.3429708533302119 |1      |\n",
      "|2012|Rampart    |8626       |2800        |0.3246000463714352 |2      |\n",
      "|2012|Harbor     |9441       |2786        |0.29509585848956676|3      |\n",
      "|2013|Olympic    |8305       |2789        |0.3358217940999398 |1      |\n",
      "|2013|Rampart    |8148       |2616        |0.32106038291605304|2      |\n",
      "|2013|Harbor     |8431       |2506        |0.29723638951488557|3      |\n",
      "|2014|Van Nuys   |9478       |3035        |0.320215235281705  |1      |\n",
      "|2014|West Valley|7953       |2505        |0.3149754809505847 |2      |\n",
      "|2014|Mission    |9976       |3115        |0.31224939855653566|3      |\n",
      "|2015|Van Nuys   |10485      |3383        |0.32265140677157844|1      |\n",
      "|2015|Mission    |10652      |3245        |0.30463762673676303|2      |\n",
      "|2015|Foothill   |7762       |2356        |0.3035300180365885 |3      |\n",
      "|2016|Van Nuys   |10508      |3383        |0.32194518462124094|1      |\n",
      "|2016|West Valley|9697       |3045        |0.3140146437042384 |2      |\n",
      "|2016|Foothill   |7991       |2390        |0.29908647228131646|3      |\n",
      "|2017|Van Nuys   |10825      |3470        |0.320554272517321  |1      |\n",
      "|2017|Mission    |10887      |3381        |0.31055387158996967|2      |\n",
      "|2017|Foothill   |8218       |2504        |0.30469700657094184|3      |\n",
      "|2018|Foothill   |8122       |2496        |0.30731346958877126|1      |\n",
      "|2018|Mission    |10206      |3136        |0.30727023319615915|2      |\n",
      "|2018|Van Nuys   |10486      |3031        |0.2890520694259012 |3      |\n",
      "|2019|Mission    |9197       |2826        |0.30727411112319236|1      |\n",
      "|2019|West Valley|8728       |2669        |0.3057974335472044 |2      |\n",
      "|2019|N Hollywood|11143      |3258        |0.2923808669119627 |3      |\n",
      "|2020|West Valley|8092       |2490        |0.30771131982204647|1      |\n",
      "|2020|Mission    |8481       |2557        |0.3014974649215894 |2      |\n",
      "|2020|Harbor     |8874       |2635        |0.29693486590038315|3      |\n",
      "|2021|Mission    |8236       |2497        |0.30318115590092276|1      |\n",
      "|2021|West Valley|8543       |2475        |0.28971087440009363|2      |\n",
      "|2021|Foothill   |7048       |1973        |0.27993757094211125|3      |\n",
      "|2022|West Valley|10284      |2729        |0.26536367172306496|1      |\n",
      "|2022|Harbor     |9196       |2422        |0.263375380600261  |2      |\n",
      "|2022|Topanga    |9461       |2482        |0.26234013317831095|3      |\n",
      "|2023|Foothill   |7156       |1915        |0.2676076020122974 |1      |\n",
      "|2023|Topanga    |9639       |2558        |0.2653802261645399 |2      |\n",
      "|2023|Mission    |8978       |2304        |0.2566273112051682 |3      |\n",
      "|2024|N Hollywood|6526       |1279        |0.19598528961078762|1      |\n",
      "|2024|Foothill   |3582       |667         |0.18620882188721385|2      |\n",
      "|2024|77th Street|6198       |1090        |0.17586318167150694|3      |\n",
      "+----+-----------+-----------+------------+-------------------+-------+\n",
      "\n",
      "DataFrame API Execution Time: 65.09 seconds"
     ]
    }
   ],
   "source": [
    "from pyspark.sql import SparkSession\n",
    "from pyspark.sql.functions import col, count, sum, when, row_number, expr\n",
    "from pyspark.sql.window import Window\n",
    "import time\n",
    "\n",
    "# Start timer\n",
    "start_time = time.time()\n",
    "\n",
    "# Start Spark session\n",
    "spark = SparkSession.builder \\\n",
    "    .appName(\"Query2 DataFrame API\") \\\n",
    "    .config(\"spark.executor.instances\", \"4\") \\\n",
    "    .getOrCreate()\n",
    "\n",
    "# Load datasets\n",
    "crime_data_2010_2019 = spark.read.csv(\n",
    "    \"s3://initial-notebook-data-bucket-dblab-905418150721/CrimeData/Crime_Data_from_2010_to_2019_20241101.csv\",\n",
    "    header=True, inferSchema=True\n",
    ")\n",
    "crime_data_2020_present = spark.read.csv(\n",
    "    \"s3://initial-notebook-data-bucket-dblab-905418150721/CrimeData/Crime_Data_from_2020_to_Present_20241101.csv\",\n",
    "    header=True, inferSchema=True\n",
    ")\n",
    "\n",
    "# Combine both datasets\n",
    "crime_data = crime_data_2010_2019.union(crime_data_2020_present)\n",
    "\n",
    "\n",
    "# Aggregation logic\n",
    "aggregated = crime_data.groupBy(\n",
    "    expr(\"substring(`DATE OCC`, 7, 4)\").alias(\"YEAR\"),  # Extract year from DATE OCC\n",
    "    col(\"AREA NAME\")\n",
    ").agg(\n",
    "    count(\"*\").alias(\"total_cases\"),\n",
    "    sum(when(~col(\"Status Desc\").isin(\"UNK\", \"Invest Cont\"), 1).otherwise(0)).alias(\"closed_cases\")  # Non-\"UNK\"/\"Invest Cont\" are closed\n",
    ").withColumn(\"closed_case_rate\", col(\"closed_cases\") / col(\"total_cases\"))\n",
    "\n",
    "# Define window specification for ranking within each year\n",
    "window_spec = Window.partitionBy(\"YEAR\").orderBy(col(\"closed_case_rate\").desc())\n",
    "\n",
    "# Assign rank and filter top 3 precincts per year\n",
    "ranked = aggregated.withColumn(\"ranking\", row_number().over(window_spec)) \\\n",
    "    .filter(col(\"ranking\") <= 3) \\\n",
    "    .orderBy(\"YEAR\", \"ranking\")\n",
    "\n",
    "# Measure the end time for the DataFrame API operations\n",
    "dataframe_api_end_time = time.time()\n",
    "\n",
    "# Count rows for showing all results\n",
    "row_count = ranked.count()\n",
    "\n",
    "# Show all rows in the output\n",
    "ranked.show(truncate=False, n=row_count)\n",
    "\n",
    "# Print DataFrame API execution time\n",
    "print(f\"DataFrame API Execution Time: {dataframe_api_end_time - dataframe_api_start_time:.2f} seconds\")\n",
    "\n"
   ]
  },
  {
   "cell_type": "markdown",
   "id": "27fdfdbf-f665-4f30-8b46-ba31433e42cb",
   "metadata": {},
   "source": [
    "### ii) SQL API"
   ]
  },
  {
   "cell_type": "code",
   "execution_count": null,
   "id": "d6123857-69d6-4398-81c8-834d1a443ae7",
   "metadata": {
    "tags": []
   },
   "outputs": [],
   "source": [
    "from pyspark.sql import SparkSession\n",
    "from pyspark.sql.functions import expr\n",
    "import time\n",
    "\n",
    "# Start timer\n",
    "sql_api_start_time = time.time()\n",
    "# Start Spark session\n",
    "spark = SparkSession.builder \\\n",
    "    .appName(\"Query2 SQL API\") \\\n",
    "    .config(\"spark.executor.instances\", \"4\") \\\n",
    "    .getOrCreate()\n",
    "\n",
    "# Load datasets\n",
    "crime_data_2010_2019 = spark.read.csv(\n",
    "    \"s3://initial-notebook-data-bucket-dblab-905418150721/CrimeData/Crime_Data_from_2010_to_2019_20241101.csv\",\n",
    "    header=True, inferSchema=True\n",
    ")\n",
    "crime_data_2020_present = spark.read.csv(\n",
    "    \"s3://initial-notebook-data-bucket-dblab-905418150721/CrimeData/Crime_Data_from_2020_to_Present_20241101.csv\",\n",
    "    header=True, inferSchema=True\n",
    ")\n",
    "\n",
    "# Combine datasets\n",
    "crime_data = crime_data_2010_2019.union(crime_data_2020_present)\n",
    "\n",
    "# Register the DataFrame as a temporary SQL table\n",
    "crime_data.createOrReplaceTempView(\"crime_data\")\n",
    "\n",
    "# SQL query\n",
    "sql_query = \"\"\"\n",
    "    WITH Aggregated AS (\n",
    "        SELECT\n",
    "            SUBSTRING(`DATE OCC`, 7, 4) AS YEAR,\n",
    "            `AREA NAME` AS Precinct,\n",
    "            COUNT(*) AS total_cases,\n",
    "            SUM(CASE WHEN `Status Desc` NOT IN ('UNK', 'Invest Cont') THEN 1 ELSE 0 END) AS closed_cases,\n",
    "            SUM(CASE WHEN `Status Desc` NOT IN ('UNK', 'Invest Cont') THEN 1 ELSE 0 END) / COUNT(*) AS closed_case_rate\n",
    "        FROM crime_data\n",
    "        GROUP BY SUBSTRING(`DATE OCC`, 7, 4), `AREA NAME`\n",
    "    ),\n",
    "    Ranked AS (\n",
    "        SELECT\n",
    "            YEAR,\n",
    "            Precinct,\n",
    "            total_cases,\n",
    "            closed_cases,\n",
    "            closed_case_rate,\n",
    "            ROW_NUMBER() OVER (PARTITION BY YEAR ORDER BY closed_case_rate DESC) AS ranking\n",
    "        FROM Aggregated\n",
    "    )\n",
    "    SELECT\n",
    "        YEAR,\n",
    "        Precinct,\n",
    "        total_cases,\n",
    "        closed_cases,\n",
    "        closed_case_rate,\n",
    "        ranking\n",
    "    FROM Ranked\n",
    "    WHERE ranking <= 3\n",
    "    ORDER BY YEAR, ranking\n",
    "\"\"\"\n",
    "\n",
    "\n",
    "\n",
    "# Execute the SQL query\n",
    "result = spark.sql(sql_query)\n",
    "\n",
    "# Count rows to ensure all results are shown\n",
    "row_count = result.count()\n",
    "\n",
    "# Show the results\n",
    "result.show(truncate=False, n=row_count)\n",
    "\n",
    "# End timer\n",
    "sql_api_end_time = time.time()\n",
    "\n",
    "# Print SQL API execution time\n",
    "print(f\"SQL API Execution Time: {sql_api_end_time - sql_api_start_time:.2f} seconds\")\n"
   ]
  },
  {
   "cell_type": "markdown",
   "id": "27ec51df-f14f-4d29-8f04-ebd1f9d6c5f6",
   "metadata": {},
   "source": [
    "csv to parquet transition"
   ]
  },
  {
   "cell_type": "code",
   "execution_count": 28,
   "id": "987ff68d-2f7f-49c2-aaef-82537d5062ff",
   "metadata": {
    "tags": []
   },
   "outputs": [
    {
     "data": {
      "application/vnd.jupyter.widget-view+json": {
       "model_id": "",
       "version_major": 2,
       "version_minor": 0
      },
      "text/plain": [
       "FloatProgress(value=0.0, bar_style='info', description='Progress:', layout=Layout(height='25px', width='50%'),…"
      ]
     },
     "metadata": {},
     "output_type": "display_data"
    },
    {
     "name": "stdout",
     "output_type": "stream",
     "text": [
      "Data successfully saved to s3://groups-bucket-dblab-905418150721/group28/query2/ in Parquet format."
     ]
    }
   ],
   "source": [
    "from pyspark.sql import SparkSession\n",
    "\n",
    "# Start Spark session\n",
    "spark = SparkSession.builder \\\n",
    "    .appName(\"Save Crime Data as Parquet\") \\\n",
    "    .config(\"spark.executor.instances\", \"4\") \\\n",
    "    .getOrCreate()\n",
    "\n",
    "# Load datasets\n",
    "crime_data_2010_2019 = spark.read.csv(\n",
    "    \"s3://initial-notebook-data-bucket-dblab-905418150721/CrimeData/Crime_Data_from_2010_to_2019_20241101.csv\",\n",
    "    header=True, inferSchema=True\n",
    ")\n",
    "crime_data_2020_present = spark.read.csv(\n",
    "    \"s3://initial-notebook-data-bucket-dblab-905418150721/CrimeData/Crime_Data_from_2020_to_Present_20241101.csv\",\n",
    "    header=True, inferSchema=True\n",
    ")\n",
    "\n",
    "# Combine datasets\n",
    "crime_data = crime_data_2010_2019.union(crime_data_2020_present)\n",
    "\n",
    "# Save as a single Parquet file to the specified S3 bucket\n",
    "output_path = \"s3://groups-bucket-dblab-905418150721/group28/query2/\"\n",
    "crime_data.repartition(1).write.mode(\"overwrite\").parquet(output_path)\n",
    "\n",
    "print(f\"Data successfully saved to {output_path} in Parquet format.\")\n"
   ]
  },
  {
   "cell_type": "code",
   "execution_count": 30,
   "id": "8ea579d8-50e2-40cf-8534-62e1ebe6d07d",
   "metadata": {
    "tags": []
   },
   "outputs": [
    {
     "data": {
      "application/vnd.jupyter.widget-view+json": {
       "model_id": "",
       "version_major": 2,
       "version_minor": 0
      },
      "text/plain": [
       "FloatProgress(value=0.0, bar_style='info', description='Progress:', layout=Layout(height='25px', width='50%'),…"
      ]
     },
     "metadata": {},
     "output_type": "display_data"
    },
    {
     "name": "stdout",
     "output_type": "stream",
     "text": [
      "+----+-----------+-----------+------------+-------------------+-------+\n",
      "|YEAR|Precinct   |total_cases|closed_cases|closed_case_rate   |ranking|\n",
      "+----+-----------+-----------+------------+-------------------+-------+\n",
      "|2010|Rampart    |8707       |2860        |0.32847134489491214|1      |\n",
      "|2010|Olympic    |8764       |2762        |0.3151528982199909 |2      |\n",
      "|2010|Harbor     |9598       |2818        |0.2936028339237341 |3      |\n",
      "|2011|Olympic    |7988       |2799        |0.35040060090135206|1      |\n",
      "|2011|Rampart    |8444       |2744        |0.324964471814306  |2      |\n",
      "|2011|Harbor     |9841       |2806        |0.2851336246316431 |3      |\n",
      "|2012|Olympic    |8543       |2930        |0.3429708533302119 |1      |\n",
      "|2012|Rampart    |8626       |2800        |0.3246000463714352 |2      |\n",
      "|2012|Harbor     |9441       |2786        |0.29509585848956676|3      |\n",
      "|2013|Olympic    |8305       |2789        |0.3358217940999398 |1      |\n",
      "|2013|Rampart    |8148       |2616        |0.32106038291605304|2      |\n",
      "|2013|Harbor     |8431       |2506        |0.29723638951488557|3      |\n",
      "|2014|Van Nuys   |9478       |3035        |0.320215235281705  |1      |\n",
      "|2014|West Valley|7953       |2505        |0.3149754809505847 |2      |\n",
      "|2014|Mission    |9976       |3115        |0.31224939855653566|3      |\n",
      "|2015|Van Nuys   |10485      |3383        |0.32265140677157844|1      |\n",
      "|2015|Mission    |10652      |3245        |0.30463762673676303|2      |\n",
      "|2015|Foothill   |7762       |2356        |0.3035300180365885 |3      |\n",
      "|2016|Van Nuys   |10508      |3383        |0.32194518462124094|1      |\n",
      "|2016|West Valley|9697       |3045        |0.3140146437042384 |2      |\n",
      "|2016|Foothill   |7991       |2390        |0.29908647228131646|3      |\n",
      "|2017|Van Nuys   |10825      |3470        |0.320554272517321  |1      |\n",
      "|2017|Mission    |10887      |3381        |0.31055387158996967|2      |\n",
      "|2017|Foothill   |8218       |2504        |0.30469700657094184|3      |\n",
      "|2018|Foothill   |8122       |2496        |0.30731346958877126|1      |\n",
      "|2018|Mission    |10206      |3136        |0.30727023319615915|2      |\n",
      "|2018|Van Nuys   |10486      |3031        |0.2890520694259012 |3      |\n",
      "|2019|Mission    |9197       |2826        |0.30727411112319236|1      |\n",
      "|2019|West Valley|8728       |2669        |0.3057974335472044 |2      |\n",
      "|2019|N Hollywood|11143      |3258        |0.2923808669119627 |3      |\n",
      "|2020|West Valley|8092       |2490        |0.30771131982204647|1      |\n",
      "|2020|Mission    |8481       |2557        |0.3014974649215894 |2      |\n",
      "|2020|Harbor     |8874       |2635        |0.29693486590038315|3      |\n",
      "|2021|Mission    |8236       |2497        |0.30318115590092276|1      |\n",
      "|2021|West Valley|8543       |2475        |0.28971087440009363|2      |\n",
      "|2021|Foothill   |7048       |1973        |0.27993757094211125|3      |\n",
      "|2022|West Valley|10284      |2729        |0.26536367172306496|1      |\n",
      "|2022|Harbor     |9196       |2422        |0.263375380600261  |2      |\n",
      "|2022|Topanga    |9461       |2482        |0.26234013317831095|3      |\n",
      "|2023|Foothill   |7156       |1915        |0.2676076020122974 |1      |\n",
      "|2023|Topanga    |9639       |2558        |0.2653802261645399 |2      |\n",
      "|2023|Mission    |8978       |2304        |0.2566273112051682 |3      |\n",
      "|2024|N Hollywood|6526       |1279        |0.19598528961078762|1      |\n",
      "|2024|Foothill   |3582       |667         |0.18620882188721385|2      |\n",
      "|2024|77th Street|6198       |1090        |0.17586318167150694|3      |\n",
      "+----+-----------+-----------+------------+-------------------+-------+\n",
      "\n",
      "SQL API Execution Time: 15.60 seconds"
     ]
    }
   ],
   "source": [
    "from pyspark.sql import SparkSession\n",
    "from pyspark.sql.functions import expr\n",
    "import time\n",
    "\n",
    "# Start timer\n",
    "sql_api_start_time = time.time()\n",
    "\n",
    "# Start Spark session\n",
    "spark = SparkSession.builder \\\n",
    "    .appName(\"Query2 SQL API\") \\\n",
    "    .config(\"spark.executor.instances\", \"4\") \\\n",
    "    .getOrCreate()\n",
    "\n",
    "# Crime Dataset in Parquet format\n",
    "crime_data = spark.read.parquet(\n",
    "    \"s3://groups-bucket-dblab-905418150721/group28/query2/part-00000-fea3c04b-7961-41ea-8e05-d62534cf766e-c000.snappy.parquet\"\n",
    ")\n",
    "\n",
    "# Register the DataFrame as a temporary SQL table\n",
    "crime_data.createOrReplaceTempView(\"crime_data\")\n",
    "\n",
    "# SQL query\n",
    "sql_query = \"\"\"\n",
    "    WITH Aggregated AS (\n",
    "        SELECT\n",
    "            SUBSTRING(`DATE OCC`, 7, 4) AS YEAR,\n",
    "            `AREA NAME` AS Precinct,\n",
    "            COUNT(*) AS total_cases,\n",
    "            SUM(CASE WHEN `Status Desc` NOT IN ('UNK', 'Invest Cont') THEN 1 ELSE 0 END) AS closed_cases,\n",
    "            SUM(CASE WHEN `Status Desc` NOT IN ('UNK', 'Invest Cont') THEN 1 ELSE 0 END) / COUNT(*) AS closed_case_rate\n",
    "        FROM crime_data\n",
    "        GROUP BY SUBSTRING(`DATE OCC`, 7, 4), `AREA NAME`\n",
    "    ),\n",
    "    Ranked AS (\n",
    "        SELECT\n",
    "            YEAR,\n",
    "            Precinct,\n",
    "            total_cases,\n",
    "            closed_cases,\n",
    "            closed_case_rate,\n",
    "            ROW_NUMBER() OVER (PARTITION BY YEAR ORDER BY closed_case_rate DESC) AS ranking\n",
    "        FROM Aggregated\n",
    "    )\n",
    "    SELECT\n",
    "        YEAR,\n",
    "        Precinct,\n",
    "        total_cases,\n",
    "        closed_cases,\n",
    "        closed_case_rate,\n",
    "        ranking\n",
    "    FROM Ranked\n",
    "    WHERE ranking <= 3\n",
    "    ORDER BY YEAR, ranking\n",
    "\"\"\"\n",
    "\n",
    "# Execute the SQL query\n",
    "result = spark.sql(sql_query)\n",
    "\n",
    "# Count rows to ensure all results are shown\n",
    "row_count = result.count()\n",
    "\n",
    "# Show the results\n",
    "result.show(truncate=False, n=row_count)\n",
    "\n",
    "# End timer\n",
    "sql_api_end_time = time.time()\n",
    "\n",
    "# Print SQL API execution time\n",
    "print(f\"SQL API Execution Time: {sql_api_end_time - sql_api_start_time:.2f} seconds\")\n"
   ]
  },
  {
   "cell_type": "code",
   "execution_count": null,
   "id": "8f525349-80fb-4930-8756-6d34372291bd",
   "metadata": {},
   "outputs": [],
   "source": []
  }
 ],
 "metadata": {
  "kernelspec": {
   "display_name": "Sparkmagic (PySpark)",
   "language": "python",
   "name": "pysparkkernel"
  },
  "language_info": {
   "codemirror_mode": {
    "name": "python",
    "version": 3
   },
   "file_extension": ".py",
   "mimetype": "text/x-python",
   "name": "pyspark",
   "pygments_lexer": "python3"
  }
 },
 "nbformat": 4,
 "nbformat_minor": 5
}
